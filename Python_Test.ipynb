{
 "cells": [
  {
   "cell_type": "code",
   "execution_count": 12,
   "metadata": {},
   "outputs": [
    {
     "name": "stdout",
     "output_type": "stream",
     "text": [
      "Enter a string :ares#jiko!\n",
      "sera#okij!"
     ]
    }
   ],
   "source": [
    "#Reverse String Without Changing Special Characters \n",
    "string = input(\"Enter a string :\")\n",
    "mylist = list(string)\n",
    "stack = []\n",
    "for i in mylist :\n",
    "    if i.isalpha():\n",
    "        stack.append(i)\n",
    "    else:\n",
    "        for j in stack[::-1]:\n",
    "            print(j,end=\"\")\n",
    "        print(i,end=\"\")\n",
    "        stack.clear()"
   ]
  },
  {
   "cell_type": "code",
   "execution_count": 4,
   "metadata": {},
   "outputs": [
    {
     "name": "stdout",
     "output_type": "stream",
     "text": [
      "Enter a number : 897\n",
      "897  is not Armstrong number\n"
     ]
    }
   ],
   "source": [
    "#Armstrong Number \n",
    "num = int(input(\"Enter a number : \"))\n",
    "mysum = 0\n",
    "temp = num\n",
    "\n",
    "while temp > 0:\n",
    "    digit = temp%10\n",
    "    mysum += digit**3\n",
    "    temp//=10\n",
    "    \n",
    "if mysum==num:\n",
    "    print(num,\" is Armstrong number\")\n",
    "else:\n",
    "    print(num,\" is not Armstrong number\")"
   ]
  },
  {
   "cell_type": "code",
   "execution_count": 11,
   "metadata": {},
   "outputs": [
    {
     "name": "stdout",
     "output_type": "stream",
     "text": [
      "Enter a string : my name is manasi\n",
      "manasi is name my "
     ]
    }
   ],
   "source": [
    "#Reverse a sentence \n",
    "string = input(\"Enter a string : \")\n",
    "mylist = string.split(\" \")\n",
    "for i in mylist[::-1]:\n",
    "    print(i,end=\" \")"
   ]
  },
  {
   "cell_type": "code",
   "execution_count": 33,
   "metadata": {},
   "outputs": [
    {
     "name": "stdout",
     "output_type": "stream",
     "text": [
      "1 2 3 6 9 18 27 54 81 162 243 "
     ]
    }
   ],
   "source": [
    "#1 2 3 6 9 18 27 54 81\n",
    "a = 1\n",
    "b = 2\n",
    "print(a,b,end=\" \")\n",
    "i = 3\n",
    "print(i,end=\" \")\n",
    "while i <= 100 :\n",
    "    print(i*2,end=\" \")\n",
    "    i = i*3\n",
    "    print(i,end=\" \")"
   ]
  },
  {
   "cell_type": "code",
   "execution_count": 34,
   "metadata": {},
   "outputs": [
    {
     "name": "stdout",
     "output_type": "stream",
     "text": [
      "1 2 3 6 9 18 27 54 81 "
     ]
    }
   ],
   "source": [
    "#1 2 3 6 9 18 27 54 81\n",
    "a = 1\n",
    "b = 2\n",
    "print(a,b,end=\" \")\n",
    "for i in range(3,10):\n",
    "    if i%2 == True:\n",
    "        a = a*3\n",
    "        print(a,end=\" \")\n",
    "    else:\n",
    "        b = b*3;\n",
    "        print(b,end=\" \")"
   ]
  },
  {
   "cell_type": "code",
   "execution_count": 37,
   "metadata": {},
   "outputs": [
    {
     "name": "stdout",
     "output_type": "stream",
     "text": [
      "{'name': 'Abhi', 'phone_no': 956135689, 'call_duration': '02:00:00', 'bill': '$0'}\n",
      "{'name': 'Surya', 'phone_no': 7798879792, 'call_duration': '15:00:00', 'bill': '$0'}\n",
      "{'name': 'Chetan', 'phone_no': 9561372338, 'call_duration': '05:30:00', 'bill': '$0'}\n",
      "{'name': 'Kiran', 'phone_no': 9561372337, 'call_duration': '16:30:00', 'bill': '$0'}\n",
      "{'name': 'Kishore', 'phone_no': 9561372333, 'call_duration': '04:59:00', 'bill': '$0'}\n",
      "{'name': 'Shubham', 'phone_no': 9561375633, 'call_duration': '12:30:00', 'bill': '$0'}\n"
     ]
    }
   ],
   "source": [
    "call_log = [\n",
    "    {'name':'Abhi','phone_no':956135689,'call_duration':'02:00:00'},\n",
    "    {'name':'Surya','phone_no':7798879792,'call_duration':'15:00:00'},\n",
    "    {'name':'Chetan','phone_no':9561372338,'call_duration':'05:30:00'},  \n",
    "    {'name':'Kiran','phone_no':9561372337,'call_duration':'16:30:00'},\n",
    "    {'name':'Kishore','phone_no':9561372333,'call_duration':'04:59:00'},\n",
    "    {'name':'Shubham','phone_no':9561375633,'call_duration':'12:30:00'}\n",
    "]\n",
    "\n",
    "for i in call_log :\n",
    "    mylist = i['call_duration'].split(':')\n",
    "    for j in mylist :\n",
    "        if j == 0:\n",
    "            sec = int(mylist[j]) * 60\n",
    "        if j == 1:\n",
    "            sec = int(mylist[j]) + sec\n",
    "            \n",
    "    if sec <= 300 :\n",
    "        sec = sec*3\n",
    "        i.update({'bill' : ('$' + str(sec))})\n",
    "        print(i)\n",
    "        \n",
    "    elif sec > 300 & sec <= 900 :\n",
    "        sec = sec*7\n",
    "        i.update({'bill' : ('$' + str(sec))})\n",
    "        print(i)\n",
    "        \n",
    "    else :\n",
    "        i.update({'bill' : 'Free..!'})\n",
    "        print(i)"
   ]
  },
  {
   "cell_type": "code",
   "execution_count": null,
   "metadata": {},
   "outputs": [],
   "source": []
  },
  {
   "cell_type": "code",
   "execution_count": null,
   "metadata": {},
   "outputs": [],
   "source": []
  }
 ],
 "metadata": {
  "kernelspec": {
   "display_name": "Python 3",
   "language": "python",
   "name": "python3"
  },
  "language_info": {
   "codemirror_mode": {
    "name": "ipython",
    "version": 3
   },
   "file_extension": ".py",
   "mimetype": "text/x-python",
   "name": "python",
   "nbconvert_exporter": "python",
   "pygments_lexer": "ipython3",
   "version": "3.7.3"
  }
 },
 "nbformat": 4,
 "nbformat_minor": 2
}
