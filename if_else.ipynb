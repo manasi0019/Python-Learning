{
 "cells": [
  {
   "cell_type": "code",
   "execution_count": 2,
   "metadata": {},
   "outputs": [
    {
     "name": "stdout",
     "output_type": "stream",
     "text": [
      "Enter Password : 1234\n",
      "Login successful\n"
     ]
    }
   ],
   "source": [
    "pw = 1234\n",
    "n = int(input(\"Enter Password : \"))\n",
    "if(n==pw):\n",
    "    print('Login successful')\n",
    "else:\n",
    "     print('Try again')"
   ]
  },
  {
   "cell_type": "code",
   "execution_count": 3,
   "metadata": {},
   "outputs": [
    {
     "name": "stdout",
     "output_type": "stream",
     "text": [
      "Enter any number : 5\n",
      "5 is odd\n"
     ]
    }
   ],
   "source": [
    "n = int(input(\"Enter any number : \"))\n",
    "if(n%2==0):\n",
    "    print(n,\"is even\")\n",
    "else:\n",
    "    print(n,\"is odd\")"
   ]
  },
  {
   "cell_type": "code",
   "execution_count": 13,
   "metadata": {},
   "outputs": [
    {
     "name": "stdout",
     "output_type": "stream",
     "text": [
      "Enter first number : 45\n",
      "Enter second number : 78\n",
      "78 is greater\n"
     ]
    }
   ],
   "source": [
    "n1 = int(input(\"Enter first number : \"))\n",
    "n2 = int(input(\"Enter second number : \"))\n",
    "if n1>n2:\n",
    "    print(n1,\"is greater\")\n",
    "elif n2>n1:\n",
    "    print(n2,\"is greater\")\n",
    "else:\n",
    "    print(n1,\"=\",n2,\"Both are equal\")"
   ]
  },
  {
   "cell_type": "code",
   "execution_count": 11,
   "metadata": {},
   "outputs": [
    {
     "name": "stdout",
     "output_type": "stream",
     "text": [
      "Enter number : 5\n",
      "5 is positive number\n"
     ]
    }
   ],
   "source": [
    "n = int(input(\"Enter number : \"))\n",
    "if(n>0):\n",
    "    print(n,\"is positive number\")\n",
    "elif(n<0):\n",
    "    print(n,\"is negative number\")\n",
    "else:\n",
    "    print(\"NUmber is 0\")"
   ]
  },
  {
   "cell_type": "code",
   "execution_count": 18,
   "metadata": {},
   "outputs": [
    {
     "name": "stdout",
     "output_type": "stream",
     "text": [
      "'e' is present\n"
     ]
    }
   ],
   "source": [
    "string = 'Hyderabad'\n",
    "\n",
    "if string.find('X'):\n",
    "    print(\"'e' is present\")\n",
    "else:\n",
    "    print(\"'e' is not present\")"
   ]
  },
  {
   "cell_type": "code",
   "execution_count": 19,
   "metadata": {},
   "outputs": [
    {
     "name": "stdout",
     "output_type": "stream",
     "text": [
      "'D' is present at index other than 0\n"
     ]
    }
   ],
   "source": [
    "s1 = 'Delhi'\n",
    "\n",
    "if s1.index('D'):\n",
    "    print(\"'D' is at index 0\")\n",
    "else:\n",
    "    print(\"'D' is present at index other than 0\")"
   ]
  },
  {
   "cell_type": "code",
   "execution_count": null,
   "metadata": {},
   "outputs": [],
   "source": []
  }
 ],
 "metadata": {
  "kernelspec": {
   "display_name": "Python 3",
   "language": "python",
   "name": "python3"
  },
  "language_info": {
   "codemirror_mode": {
    "name": "ipython",
    "version": 3
   },
   "file_extension": ".py",
   "mimetype": "text/x-python",
   "name": "python",
   "nbconvert_exporter": "python",
   "pygments_lexer": "ipython3",
   "version": "3.7.3"
  }
 },
 "nbformat": 4,
 "nbformat_minor": 2
}
