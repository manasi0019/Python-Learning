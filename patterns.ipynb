{
 "cells": [
  {
   "cell_type": "code",
   "execution_count": 3,
   "metadata": {},
   "outputs": [
    {
     "name": "stdout",
     "output_type": "stream",
     "text": [
      "\n",
      "* \n",
      "* * \n",
      "* * * \n",
      "* * * * \n",
      "* * * * * \n"
     ]
    }
   ],
   "source": [
    "r = 5\n",
    "for i in range(0,r+1):\n",
    "    print(\"* \"*i)"
   ]
  },
  {
   "cell_type": "code",
   "execution_count": 4,
   "metadata": {},
   "outputs": [
    {
     "name": "stdout",
     "output_type": "stream",
     "text": [
      "* * * * *  \n",
      "* * * *  \n",
      "* * *  \n",
      "* *  \n",
      "*  \n",
      " \n"
     ]
    }
   ],
   "source": [
    "r = 5\n",
    "for i in range(r+1,0,-1):\n",
    "    for j in range(0,i-1):\n",
    "        print(\"*\",end = \" \")\n",
    "    print(\" \")"
   ]
  },
  {
   "cell_type": "code",
   "execution_count": 5,
   "metadata": {},
   "outputs": [
    {
     "name": "stdout",
     "output_type": "stream",
     "text": [
      "1  \n",
      "2 2  \n",
      "3 3 3  \n",
      "4 4 4 4  \n",
      "5 5 5 5 5  \n"
     ]
    }
   ],
   "source": [
    "r = 5\n",
    "for i in range(1,r+1):\n",
    "    for j in range(0,i):\n",
    "        print(i,end=\" \")\n",
    "    print(\" \")"
   ]
  },
  {
   "cell_type": "code",
   "execution_count": 16,
   "metadata": {},
   "outputs": [
    {
     "name": "stdout",
     "output_type": "stream",
     "text": [
      "1  \n",
      "1 2  \n",
      "1 2 3  \n",
      "1 2 3 4  \n",
      "1 2 3 4 5  \n"
     ]
    }
   ],
   "source": [
    "r = 5\n",
    "for i in range(1,r+1):\n",
    "    for j in range(0,i):\n",
    "        print(j+1,end=\" \")\n",
    "    print(\" \")"
   ]
  },
  {
   "cell_type": "code",
   "execution_count": 6,
   "metadata": {},
   "outputs": [
    {
     "name": "stdout",
     "output_type": "stream",
     "text": [
      "5 5 5 5 5  \n",
      "4 4 4 4  \n",
      "3 3 3  \n",
      "2 2  \n",
      "1  \n",
      " \n"
     ]
    }
   ],
   "source": [
    "r = 5\n",
    "for i in range(r+1,0,-1):\n",
    "    for j in range(0,i-1):\n",
    "        print(i-1,end = \" \")\n",
    "    print(\" \")"
   ]
  },
  {
   "cell_type": "code",
   "execution_count": 7,
   "metadata": {},
   "outputs": [
    {
     "name": "stdout",
     "output_type": "stream",
     "text": [
      "* \n",
      " \n",
      "* * \n",
      " \n",
      "* * * \n",
      " \n",
      "* * * * \n",
      " \n",
      "* * * * * \n",
      " \n"
     ]
    }
   ],
   "source": [
    "r = 5\n",
    "for i in range(1,r+1):\n",
    "    for j in range(5-i,0):\n",
    "        print(\" \",end=\" \")\n",
    "    print(\"* \"*i)\n",
    "    for k in range(5-i,0):\n",
    "        print(\" \",end=\" \")\n",
    "    print(\" \")"
   ]
  },
  {
   "cell_type": "code",
   "execution_count": 8,
   "metadata": {},
   "outputs": [
    {
     "name": "stdout",
     "output_type": "stream",
     "text": [
      "*    *\n",
      "*    *\n",
      "*    *\n",
      "******\n",
      "*    *\n",
      "*    *\n",
      "*    *\n",
      "******\n",
      "*    *\n",
      "*    *\n",
      "*    *\n",
      "******\n",
      "*    *\n",
      "*    *\n",
      "*    *\n",
      "******\n",
      "*    *\n",
      "*    *\n",
      "*    *\n",
      "******\n",
      "*    *\n",
      "*    *\n",
      "*    *\n"
     ]
    }
   ],
   "source": [
    "r = 5 \n",
    "for i in range(r+1):\n",
    "    print(\"*    *\")\n",
    "    print(\"*    *\")\n",
    "    print(\"*    *\")\n",
    "    if i<r:\n",
    "        print(\"******\")"
   ]
  },
  {
   "cell_type": "code",
   "execution_count": 9,
   "metadata": {},
   "outputs": [
    {
     "name": "stdout",
     "output_type": "stream",
     "text": [
      "             \n",
      "          *   \n",
      "        *  *   \n",
      "      *  *  *   \n",
      "    *  *  *  *   \n",
      "  *  *  *  *  *   \n"
     ]
    }
   ],
   "source": [
    "r = 5\n",
    "for i in range(0,r+1):\n",
    "    for j in range(i,r+1):\n",
    "        print(\" \",end = \" \")\n",
    "    for j in range(0,i):\n",
    "        print(\"* \",end = \" \")\n",
    "    print(\" \")"
   ]
  },
  {
   "cell_type": "code",
   "execution_count": 10,
   "metadata": {},
   "outputs": [
    {
     "name": "stdout",
     "output_type": "stream",
     "text": [
      "*  *  *  *  *   \n",
      "  *  *  *  *   \n",
      "    *  *  *   \n",
      "      *  *   \n",
      "        *   \n"
     ]
    }
   ],
   "source": [
    "r = 5\n",
    "for i in range(0,r):\n",
    "    for j in range(0,i):\n",
    "        print(\" \",end = \" \")\n",
    "    for j in range(i,r):\n",
    "        print(\"* \",end = \" \")\n",
    "    print(\" \")"
   ]
  },
  {
   "cell_type": "code",
   "execution_count": 11,
   "metadata": {},
   "outputs": [
    {
     "name": "stdout",
     "output_type": "stream",
     "text": [
      "           \n",
      "        *   \n",
      "      *  *   \n",
      "    *  *  *   \n",
      "  *  *  *  *   \n",
      "*  *  *  *  *   \n",
      "  *  *  *  *   \n",
      "    *  *  *   \n",
      "      *  *   \n",
      "        *   \n"
     ]
    }
   ],
   "source": [
    "r = 5\n",
    "for i in range(0,r):\n",
    "    for j in range(i,r):\n",
    "        print(\" \",end = \" \")\n",
    "    for j in range(0,i):\n",
    "        print(\"* \",end = \" \")\n",
    "    print(\" \")\n",
    "    \n",
    "for i in range(0,r):\n",
    "    for j in range(0,i):\n",
    "        print(\" \",end = \" \")\n",
    "    for j in range(i,r):\n",
    "        print(\"* \",end = \" \")\n",
    "    print(\" \")"
   ]
  },
  {
   "cell_type": "code",
   "execution_count": 12,
   "metadata": {},
   "outputs": [
    {
     "name": "stdout",
     "output_type": "stream",
     "text": [
      "            \n",
      "          * \n",
      "        * * \n",
      "      * * * \n",
      "    * * * * \n",
      "  * * * * * \n"
     ]
    }
   ],
   "source": [
    "r = 5\n",
    "for i in range(0,r+1):\n",
    "    for j in range(i,r+1):\n",
    "        print(\" \",end=\" \")\n",
    "    for j in range(0,i):\n",
    "        print(\"*\",end=\" \")\n",
    "    print()"
   ]
  },
  {
   "cell_type": "code",
   "execution_count": 13,
   "metadata": {},
   "outputs": [
    {
     "name": "stdout",
     "output_type": "stream",
     "text": [
      "            \n",
      "          1 \n",
      "        2 2 \n",
      "      3 3 3 \n",
      "    4 4 4 4 \n",
      "  5 5 5 5 5 \n"
     ]
    }
   ],
   "source": [
    "r = 5\n",
    "for i in range(0,r+1):\n",
    "    for j in range(i,r+1):\n",
    "        print(\" \",end=\" \")\n",
    "    for j in range(0,i):\n",
    "        print(i,end=\" \")\n",
    "    print()"
   ]
  },
  {
   "cell_type": "code",
   "execution_count": null,
   "metadata": {},
   "outputs": [],
   "source": []
  }
 ],
 "metadata": {
  "kernelspec": {
   "display_name": "Python 3",
   "language": "python",
   "name": "python3"
  },
  "language_info": {
   "codemirror_mode": {
    "name": "ipython",
    "version": 3
   },
   "file_extension": ".py",
   "mimetype": "text/x-python",
   "name": "python",
   "nbconvert_exporter": "python",
   "pygments_lexer": "ipython3",
   "version": "3.7.3"
  }
 },
 "nbformat": 4,
 "nbformat_minor": 2
}
